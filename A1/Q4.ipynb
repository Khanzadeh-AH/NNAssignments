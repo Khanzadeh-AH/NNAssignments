{
 "cells": [
  {
   "cell_type": "code",
   "execution_count": 1,
   "outputs": [],
   "source": [
    "import pandas as pd\n",
    "import numpy as np"
   ],
   "metadata": {
    "collapsed": false
   }
  },
  {
   "cell_type": "code",
   "execution_count": 2,
   "outputs": [
    {
     "data": {
      "text/plain": "      job  education  gender minority\n1  manage         15    male       no\n2   admin         16    male       no\n3   admin         12  female       no\n4   admin          8  female       no\n5   admin         15    male       no",
      "text/html": "<div>\n<style scoped>\n    .dataframe tbody tr th:only-of-type {\n        vertical-align: middle;\n    }\n\n    .dataframe tbody tr th {\n        vertical-align: top;\n    }\n\n    .dataframe thead th {\n        text-align: right;\n    }\n</style>\n<table border=\"1\" class=\"dataframe\">\n  <thead>\n    <tr style=\"text-align: right;\">\n      <th></th>\n      <th>job</th>\n      <th>education</th>\n      <th>gender</th>\n      <th>minority</th>\n    </tr>\n  </thead>\n  <tbody>\n    <tr>\n      <th>1</th>\n      <td>manage</td>\n      <td>15</td>\n      <td>male</td>\n      <td>no</td>\n    </tr>\n    <tr>\n      <th>2</th>\n      <td>admin</td>\n      <td>16</td>\n      <td>male</td>\n      <td>no</td>\n    </tr>\n    <tr>\n      <th>3</th>\n      <td>admin</td>\n      <td>12</td>\n      <td>female</td>\n      <td>no</td>\n    </tr>\n    <tr>\n      <th>4</th>\n      <td>admin</td>\n      <td>8</td>\n      <td>female</td>\n      <td>no</td>\n    </tr>\n    <tr>\n      <th>5</th>\n      <td>admin</td>\n      <td>15</td>\n      <td>male</td>\n      <td>no</td>\n    </tr>\n  </tbody>\n</table>\n</div>"
     },
     "execution_count": 2,
     "metadata": {},
     "output_type": "execute_result"
    }
   ],
   "source": [
    "df = pd.read_csv(\"BankWages_dataset/BankWages.csv\", index_col=0)\n",
    "df.head()"
   ],
   "metadata": {
    "collapsed": false
   }
  },
  {
   "cell_type": "code",
   "execution_count": 3,
   "id": "4d3ebe1e",
   "metadata": {},
   "outputs": [
    {
     "data": {
      "text/plain": "   education  job  gender  minority\n1         15    2       1         0\n2         16    0       1         0\n3         12    0       0         0\n4          8    0       0         0\n5         15    0       1         0",
      "text/html": "<div>\n<style scoped>\n    .dataframe tbody tr th:only-of-type {\n        vertical-align: middle;\n    }\n\n    .dataframe tbody tr th {\n        vertical-align: top;\n    }\n\n    .dataframe thead th {\n        text-align: right;\n    }\n</style>\n<table border=\"1\" class=\"dataframe\">\n  <thead>\n    <tr style=\"text-align: right;\">\n      <th></th>\n      <th>education</th>\n      <th>job</th>\n      <th>gender</th>\n      <th>minority</th>\n    </tr>\n  </thead>\n  <tbody>\n    <tr>\n      <th>1</th>\n      <td>15</td>\n      <td>2</td>\n      <td>1</td>\n      <td>0</td>\n    </tr>\n    <tr>\n      <th>2</th>\n      <td>16</td>\n      <td>0</td>\n      <td>1</td>\n      <td>0</td>\n    </tr>\n    <tr>\n      <th>3</th>\n      <td>12</td>\n      <td>0</td>\n      <td>0</td>\n      <td>0</td>\n    </tr>\n    <tr>\n      <th>4</th>\n      <td>8</td>\n      <td>0</td>\n      <td>0</td>\n      <td>0</td>\n    </tr>\n    <tr>\n      <th>5</th>\n      <td>15</td>\n      <td>0</td>\n      <td>1</td>\n      <td>0</td>\n    </tr>\n  </tbody>\n</table>\n</div>"
     },
     "execution_count": 3,
     "metadata": {},
     "output_type": "execute_result"
    }
   ],
   "source": [
    "from sklearn.preprocessing import LabelEncoder\n",
    "le = LabelEncoder()\n",
    "\n",
    "categorized_labels = [\"job\", \"gender\", \"minority\"]\n",
    "for cl in categorized_labels:\n",
    "    encoded_label = le.fit_transform(df[cl])\n",
    "    df.drop(cl, axis=1, inplace=True)\n",
    "    df[cl] = encoded_label\n",
    "    \n",
    "df.head()"
   ]
  },
  {
   "cell_type": "code",
   "execution_count": 4,
   "id": "2de24a9c",
   "metadata": {},
   "outputs": [
    {
     "data": {
      "text/plain": "         education                                                      job  \\\n             count       mean       std  min   25%   50%   75%   max  count   \nminority                                                                      \n0            370.0  13.694595  2.942304  8.0  12.0  15.0  16.0  21.0  370.0   \n1            104.0  12.769231  2.555142  8.0  12.0  12.0  15.0  19.0  104.0   \n\n                    ...           gender                                     \\\n              mean  ...  75%  max  count      mean       std  min  25%  50%   \nminority            ...                                                       \n0         0.470270  ...  1.0  2.0  370.0  0.524324  0.500084  0.0  0.0  1.0   \n1         0.201923  ...  0.0  2.0  104.0  0.615385  0.488860  0.0  0.0  1.0   \n\n                    \n          75%  max  \nminority            \n0         1.0  1.0  \n1         1.0  1.0  \n\n[2 rows x 24 columns]",
      "text/html": "<div>\n<style scoped>\n    .dataframe tbody tr th:only-of-type {\n        vertical-align: middle;\n    }\n\n    .dataframe tbody tr th {\n        vertical-align: top;\n    }\n\n    .dataframe thead tr th {\n        text-align: left;\n    }\n\n    .dataframe thead tr:last-of-type th {\n        text-align: right;\n    }\n</style>\n<table border=\"1\" class=\"dataframe\">\n  <thead>\n    <tr>\n      <th></th>\n      <th colspan=\"8\" halign=\"left\">education</th>\n      <th colspan=\"5\" halign=\"left\">job</th>\n      <th colspan=\"8\" halign=\"left\">gender</th>\n    </tr>\n    <tr>\n      <th></th>\n      <th>count</th>\n      <th>mean</th>\n      <th>std</th>\n      <th>min</th>\n      <th>25%</th>\n      <th>50%</th>\n      <th>75%</th>\n      <th>max</th>\n      <th>count</th>\n      <th>mean</th>\n      <th>...</th>\n      <th>75%</th>\n      <th>max</th>\n      <th>count</th>\n      <th>mean</th>\n      <th>std</th>\n      <th>min</th>\n      <th>25%</th>\n      <th>50%</th>\n      <th>75%</th>\n      <th>max</th>\n    </tr>\n    <tr>\n      <th>minority</th>\n      <th></th>\n      <th></th>\n      <th></th>\n      <th></th>\n      <th></th>\n      <th></th>\n      <th></th>\n      <th></th>\n      <th></th>\n      <th></th>\n      <th></th>\n      <th></th>\n      <th></th>\n      <th></th>\n      <th></th>\n      <th></th>\n      <th></th>\n      <th></th>\n      <th></th>\n      <th></th>\n      <th></th>\n    </tr>\n  </thead>\n  <tbody>\n    <tr>\n      <th>0</th>\n      <td>370.0</td>\n      <td>13.694595</td>\n      <td>2.942304</td>\n      <td>8.0</td>\n      <td>12.0</td>\n      <td>15.0</td>\n      <td>16.0</td>\n      <td>21.0</td>\n      <td>370.0</td>\n      <td>0.470270</td>\n      <td>...</td>\n      <td>1.0</td>\n      <td>2.0</td>\n      <td>370.0</td>\n      <td>0.524324</td>\n      <td>0.500084</td>\n      <td>0.0</td>\n      <td>0.0</td>\n      <td>1.0</td>\n      <td>1.0</td>\n      <td>1.0</td>\n    </tr>\n    <tr>\n      <th>1</th>\n      <td>104.0</td>\n      <td>12.769231</td>\n      <td>2.555142</td>\n      <td>8.0</td>\n      <td>12.0</td>\n      <td>12.0</td>\n      <td>15.0</td>\n      <td>19.0</td>\n      <td>104.0</td>\n      <td>0.201923</td>\n      <td>...</td>\n      <td>0.0</td>\n      <td>2.0</td>\n      <td>104.0</td>\n      <td>0.615385</td>\n      <td>0.488860</td>\n      <td>0.0</td>\n      <td>0.0</td>\n      <td>1.0</td>\n      <td>1.0</td>\n      <td>1.0</td>\n    </tr>\n  </tbody>\n</table>\n<p>2 rows × 24 columns</p>\n</div>"
     },
     "execution_count": 4,
     "metadata": {},
     "output_type": "execute_result"
    }
   ],
   "source": [
    "df.groupby(\"minority\").describe()"
   ]
  },
  {
   "cell_type": "code",
   "execution_count": 5,
   "id": "c2a14b19",
   "metadata": {},
   "outputs": [],
   "source": [
    "from sklearn.model_selection import train_test_split\n",
    "\n",
    "X = df.drop(\"minority\", axis=1).values\n",
    "y = df[\"minority\"].values\n",
    "\n",
    "X_train, X_test, y_train, y_test = train_test_split(X, y, test_size=0.3)"
   ]
  },
  {
   "cell_type": "code",
   "execution_count": 6,
   "id": "f98690c9",
   "metadata": {},
   "outputs": [],
   "source": [
    "def identity(x):\n",
    "    return x"
   ]
  },
  {
   "cell_type": "code",
   "execution_count": 7,
   "outputs": [],
   "source": [
    "def sigmoid(x):\n",
    "    return 1/(1 + np.exp(-x))"
   ],
   "metadata": {
    "collapsed": false
   }
  },
  {
   "cell_type": "code",
   "execution_count": 23,
   "id": "16f238e4",
   "metadata": {},
   "outputs": [],
   "source": [
    "class Neuron:\n",
    "    def __init__(self, input_size):\n",
    "        self.w = np.random.random(input_size)\n",
    "        self.b = np.random.rand()\n",
    "    \n",
    "    def call(self, inputs):\n",
    "        induced_local_field = np.dot(self.w, inputs) + self.b\n",
    "        return induced_local_field\n",
    "    \n",
    "    def update(self, delta_w, delta_b):\n",
    "        self.w += delta_w\n",
    "        self.b += delta_b\n",
    "        \n",
    "    @property\n",
    "    def weights(self):\n",
    "        return self.w, self.b"
   ]
  },
  {
   "cell_type": "code",
   "execution_count": 24,
   "id": "ef4f2ad7",
   "metadata": {},
   "outputs": [],
   "source": [
    "class NeuralLayer:\n",
    "    def __init__(self, inputsize_neuroncount, activation_function):\n",
    "        self.neurons = [Neuron(inputsize_neuroncount[0]) for _ in range(inputsize_neuroncount[1])]\n",
    "        self.a_f = activation_function\n",
    "\n",
    "    def calculate_outputs(self, x_input):\n",
    "        return [self.a_f(neuron.call(x_input)) for neuron in self.neurons]\n",
    "    \n",
    "    @property\n",
    "    def weights(self):\n",
    "        return [neuron.weights for neuron in self.neurons]\n",
    "        "
   ]
  },
  {
   "cell_type": "code",
   "execution_count": 38,
   "id": "969e691a",
   "metadata": {},
   "outputs": [],
   "source": [
    "class NNModel:\n",
    "    def __init__(self, *layers):\n",
    "        self.layers = layers\n",
    "\n",
    "    def forward(self, x_input):\n",
    "        layer_input = x_input\n",
    "        for layer in self.layers:\n",
    "            layer_output = layer.calculate_outputs(layer_input)\n",
    "            layer_input = layer_output\n",
    "\n",
    "        # output of the neural network is the output of the last layer\n",
    "        neural_net_output = layer_input\n",
    "        return neural_net_output\n",
    "\n",
    "    def fit(self, x_input, y_output):\n",
    "        pass\n",
    "\n",
    "    @property\n",
    "    def weights(self):\n",
    "        return [neural_layer.weights for neural_layer in self.layers]"
   ]
  },
  {
   "cell_type": "code",
   "execution_count": 39,
   "id": "883c86e6",
   "metadata": {},
   "outputs": [],
   "source": [
    "n = NNModel(\n",
    "    NeuralLayer((3,3),identity),\n",
    "    NeuralLayer((3,3),identity),\n",
    ")\n",
    "\n"
   ]
  },
  {
   "cell_type": "code",
   "execution_count": 40,
   "outputs": [
    {
     "data": {
      "text/plain": "[[(array([0.81237944, 0.50936342, 0.31580488]), 0.22512227494280201),\n  (array([0.93930208, 0.1587687 , 0.88381079]), 0.861838162708487),\n  (array([0.92970633, 0.47070763, 0.39849654]), 0.1882836518167076)],\n [(array([0.06115986, 0.64434808, 0.26711215]), 0.6992234339936451),\n  (array([0.77319595, 0.70855243, 0.29409552]), 0.7200274075304203),\n  (array([0.27847557, 0.94376784, 0.34374179]), 0.8849702635184546)]]"
     },
     "execution_count": 40,
     "metadata": {},
     "output_type": "execute_result"
    }
   ],
   "source": [
    "n.weights"
   ],
   "metadata": {
    "collapsed": false
   }
  },
  {
   "cell_type": "code",
   "execution_count": 41,
   "id": "a7044f37",
   "metadata": {},
   "outputs": [
    {
     "data": {
      "text/plain": "[19.694130235060975, 33.61207555086771, 31.00527605959965]"
     },
     "execution_count": 41,
     "metadata": {},
     "output_type": "execute_result"
    }
   ],
   "source": [
    "# n.fit(X_train[0], y_train[0])\n",
    "n.forward(X_train[0])"
   ]
  },
  {
   "cell_type": "code",
   "execution_count": 13,
   "outputs": [],
   "source": [],
   "metadata": {
    "collapsed": false
   }
  }
 ],
 "metadata": {
  "kernelspec": {
   "display_name": "Python 3 (ipykernel)",
   "language": "python",
   "name": "python3"
  },
  "language_info": {
   "codemirror_mode": {
    "name": "ipython",
    "version": 3
   },
   "file_extension": ".py",
   "mimetype": "text/x-python",
   "name": "python",
   "nbconvert_exporter": "python",
   "pygments_lexer": "ipython3",
   "version": "3.9.12"
  }
 },
 "nbformat": 4,
 "nbformat_minor": 5
}
