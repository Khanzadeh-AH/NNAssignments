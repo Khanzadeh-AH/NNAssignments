{
 "cells": [
  {
   "cell_type": "markdown",
   "source": [
    "<div dir=\"rtl\">\n",
    "<p>در این خانه کتابخانه های مورد نیاز فراخوانی شده اند.</p>\n",
    "</div>"
   ],
   "metadata": {
    "collapsed": false
   }
  },
  {
   "cell_type": "code",
   "execution_count": 1,
   "id": "8f379b0c",
   "metadata": {},
   "outputs": [],
   "source": [
    "import pandas as pd\n",
    "import numpy as np"
   ]
  },
  {
   "cell_type": "markdown",
   "source": [
    "<div dir=\"rtl\">\n",
    "<p>دیتای مورد نظر به یک pandas dataframe ریخته شده است.</p>\n",
    "</div>"
   ],
   "metadata": {
    "collapsed": false
   }
  },
  {
   "cell_type": "code",
   "execution_count": 2,
   "id": "8d7ab942",
   "metadata": {},
   "outputs": [
    {
     "data": {
      "text/html": [
       "<div>\n",
       "<style scoped>\n",
       "    .dataframe tbody tr th:only-of-type {\n",
       "        vertical-align: middle;\n",
       "    }\n",
       "\n",
       "    .dataframe tbody tr th {\n",
       "        vertical-align: top;\n",
       "    }\n",
       "\n",
       "    .dataframe thead th {\n",
       "        text-align: right;\n",
       "    }\n",
       "</style>\n",
       "<table border=\"1\" class=\"dataframe\">\n",
       "  <thead>\n",
       "    <tr style=\"text-align: right;\">\n",
       "      <th></th>\n",
       "      <th>job</th>\n",
       "      <th>education</th>\n",
       "      <th>gender</th>\n",
       "      <th>minority</th>\n",
       "    </tr>\n",
       "  </thead>\n",
       "  <tbody>\n",
       "    <tr>\n",
       "      <th>1</th>\n",
       "      <td>manage</td>\n",
       "      <td>15</td>\n",
       "      <td>male</td>\n",
       "      <td>no</td>\n",
       "    </tr>\n",
       "    <tr>\n",
       "      <th>2</th>\n",
       "      <td>admin</td>\n",
       "      <td>16</td>\n",
       "      <td>male</td>\n",
       "      <td>no</td>\n",
       "    </tr>\n",
       "    <tr>\n",
       "      <th>3</th>\n",
       "      <td>admin</td>\n",
       "      <td>12</td>\n",
       "      <td>female</td>\n",
       "      <td>no</td>\n",
       "    </tr>\n",
       "    <tr>\n",
       "      <th>4</th>\n",
       "      <td>admin</td>\n",
       "      <td>8</td>\n",
       "      <td>female</td>\n",
       "      <td>no</td>\n",
       "    </tr>\n",
       "    <tr>\n",
       "      <th>5</th>\n",
       "      <td>admin</td>\n",
       "      <td>15</td>\n",
       "      <td>male</td>\n",
       "      <td>no</td>\n",
       "    </tr>\n",
       "  </tbody>\n",
       "</table>\n",
       "</div>"
      ],
      "text/plain": [
       "      job  education  gender minority\n",
       "1  manage         15    male       no\n",
       "2   admin         16    male       no\n",
       "3   admin         12  female       no\n",
       "4   admin          8  female       no\n",
       "5   admin         15    male       no"
      ]
     },
     "execution_count": 2,
     "metadata": {},
     "output_type": "execute_result"
    }
   ],
   "source": [
    "df = pd.read_csv(\"BankWages_dataset/BankWages.csv\", index_col=0)\n",
    "df.head()"
   ]
  },
  {
   "cell_type": "markdown",
   "source": [
    "<div dir=\"rtl\">\n",
    "<p>ورودی های غیر عددی با روش label encoding به فیچر های عددی تبدیل شده اند.</p>\n",
    "</div>"
   ],
   "metadata": {
    "collapsed": false
   }
  },
  {
   "cell_type": "code",
   "execution_count": 3,
   "id": "4d3ebe1e",
   "metadata": {},
   "outputs": [
    {
     "data": {
      "text/html": [
       "<div>\n",
       "<style scoped>\n",
       "    .dataframe tbody tr th:only-of-type {\n",
       "        vertical-align: middle;\n",
       "    }\n",
       "\n",
       "    .dataframe tbody tr th {\n",
       "        vertical-align: top;\n",
       "    }\n",
       "\n",
       "    .dataframe thead th {\n",
       "        text-align: right;\n",
       "    }\n",
       "</style>\n",
       "<table border=\"1\" class=\"dataframe\">\n",
       "  <thead>\n",
       "    <tr style=\"text-align: right;\">\n",
       "      <th></th>\n",
       "      <th>education</th>\n",
       "      <th>job</th>\n",
       "      <th>gender</th>\n",
       "      <th>minority</th>\n",
       "    </tr>\n",
       "  </thead>\n",
       "  <tbody>\n",
       "    <tr>\n",
       "      <th>1</th>\n",
       "      <td>15</td>\n",
       "      <td>2</td>\n",
       "      <td>1</td>\n",
       "      <td>0</td>\n",
       "    </tr>\n",
       "    <tr>\n",
       "      <th>2</th>\n",
       "      <td>16</td>\n",
       "      <td>0</td>\n",
       "      <td>1</td>\n",
       "      <td>0</td>\n",
       "    </tr>\n",
       "    <tr>\n",
       "      <th>3</th>\n",
       "      <td>12</td>\n",
       "      <td>0</td>\n",
       "      <td>0</td>\n",
       "      <td>0</td>\n",
       "    </tr>\n",
       "    <tr>\n",
       "      <th>4</th>\n",
       "      <td>8</td>\n",
       "      <td>0</td>\n",
       "      <td>0</td>\n",
       "      <td>0</td>\n",
       "    </tr>\n",
       "    <tr>\n",
       "      <th>5</th>\n",
       "      <td>15</td>\n",
       "      <td>0</td>\n",
       "      <td>1</td>\n",
       "      <td>0</td>\n",
       "    </tr>\n",
       "  </tbody>\n",
       "</table>\n",
       "</div>"
      ],
      "text/plain": [
       "   education  job  gender  minority\n",
       "1         15    2       1         0\n",
       "2         16    0       1         0\n",
       "3         12    0       0         0\n",
       "4          8    0       0         0\n",
       "5         15    0       1         0"
      ]
     },
     "execution_count": 3,
     "metadata": {},
     "output_type": "execute_result"
    }
   ],
   "source": [
    "from sklearn.preprocessing import LabelEncoder\n",
    "\n",
    "le = LabelEncoder()\n",
    "\n",
    "categorized_labels = [\"job\", \"gender\", \"minority\"]\n",
    "for cl in categorized_labels:\n",
    "    encoded_label = le.fit_transform(df[cl])\n",
    "    df.drop(cl, axis=1, inplace=True)\n",
    "    df[cl] = encoded_label\n",
    "\n",
    "df.head()"
   ]
  },
  {
   "cell_type": "markdown",
   "source": [
    "<div dir=\"rtl\">\n",
    "<p>خانه زیر آماری با توجه به LABEL ها می دهد.</p>\n",
    "</div>"
   ],
   "metadata": {
    "collapsed": false
   }
  },
  {
   "cell_type": "code",
   "execution_count": 4,
   "id": "2de24a9c",
   "metadata": {},
   "outputs": [
    {
     "data": {
      "text/html": [
       "<div>\n",
       "<style scoped>\n",
       "    .dataframe tbody tr th:only-of-type {\n",
       "        vertical-align: middle;\n",
       "    }\n",
       "\n",
       "    .dataframe tbody tr th {\n",
       "        vertical-align: top;\n",
       "    }\n",
       "\n",
       "    .dataframe thead tr th {\n",
       "        text-align: left;\n",
       "    }\n",
       "\n",
       "    .dataframe thead tr:last-of-type th {\n",
       "        text-align: right;\n",
       "    }\n",
       "</style>\n",
       "<table border=\"1\" class=\"dataframe\">\n",
       "  <thead>\n",
       "    <tr>\n",
       "      <th></th>\n",
       "      <th colspan=\"8\" halign=\"left\">education</th>\n",
       "      <th colspan=\"5\" halign=\"left\">job</th>\n",
       "      <th colspan=\"8\" halign=\"left\">gender</th>\n",
       "    </tr>\n",
       "    <tr>\n",
       "      <th></th>\n",
       "      <th>count</th>\n",
       "      <th>mean</th>\n",
       "      <th>std</th>\n",
       "      <th>min</th>\n",
       "      <th>25%</th>\n",
       "      <th>50%</th>\n",
       "      <th>75%</th>\n",
       "      <th>max</th>\n",
       "      <th>count</th>\n",
       "      <th>mean</th>\n",
       "      <th>...</th>\n",
       "      <th>75%</th>\n",
       "      <th>max</th>\n",
       "      <th>count</th>\n",
       "      <th>mean</th>\n",
       "      <th>std</th>\n",
       "      <th>min</th>\n",
       "      <th>25%</th>\n",
       "      <th>50%</th>\n",
       "      <th>75%</th>\n",
       "      <th>max</th>\n",
       "    </tr>\n",
       "    <tr>\n",
       "      <th>minority</th>\n",
       "      <th></th>\n",
       "      <th></th>\n",
       "      <th></th>\n",
       "      <th></th>\n",
       "      <th></th>\n",
       "      <th></th>\n",
       "      <th></th>\n",
       "      <th></th>\n",
       "      <th></th>\n",
       "      <th></th>\n",
       "      <th></th>\n",
       "      <th></th>\n",
       "      <th></th>\n",
       "      <th></th>\n",
       "      <th></th>\n",
       "      <th></th>\n",
       "      <th></th>\n",
       "      <th></th>\n",
       "      <th></th>\n",
       "      <th></th>\n",
       "      <th></th>\n",
       "    </tr>\n",
       "  </thead>\n",
       "  <tbody>\n",
       "    <tr>\n",
       "      <th>0</th>\n",
       "      <td>370.0</td>\n",
       "      <td>13.694595</td>\n",
       "      <td>2.942304</td>\n",
       "      <td>8.0</td>\n",
       "      <td>12.0</td>\n",
       "      <td>15.0</td>\n",
       "      <td>16.0</td>\n",
       "      <td>21.0</td>\n",
       "      <td>370.0</td>\n",
       "      <td>0.470270</td>\n",
       "      <td>...</td>\n",
       "      <td>1.0</td>\n",
       "      <td>2.0</td>\n",
       "      <td>370.0</td>\n",
       "      <td>0.524324</td>\n",
       "      <td>0.500084</td>\n",
       "      <td>0.0</td>\n",
       "      <td>0.0</td>\n",
       "      <td>1.0</td>\n",
       "      <td>1.0</td>\n",
       "      <td>1.0</td>\n",
       "    </tr>\n",
       "    <tr>\n",
       "      <th>1</th>\n",
       "      <td>104.0</td>\n",
       "      <td>12.769231</td>\n",
       "      <td>2.555142</td>\n",
       "      <td>8.0</td>\n",
       "      <td>12.0</td>\n",
       "      <td>12.0</td>\n",
       "      <td>15.0</td>\n",
       "      <td>19.0</td>\n",
       "      <td>104.0</td>\n",
       "      <td>0.201923</td>\n",
       "      <td>...</td>\n",
       "      <td>0.0</td>\n",
       "      <td>2.0</td>\n",
       "      <td>104.0</td>\n",
       "      <td>0.615385</td>\n",
       "      <td>0.488860</td>\n",
       "      <td>0.0</td>\n",
       "      <td>0.0</td>\n",
       "      <td>1.0</td>\n",
       "      <td>1.0</td>\n",
       "      <td>1.0</td>\n",
       "    </tr>\n",
       "  </tbody>\n",
       "</table>\n",
       "<p>2 rows × 24 columns</p>\n",
       "</div>"
      ],
      "text/plain": [
       "         education                                                      job  \\\n",
       "             count       mean       std  min   25%   50%   75%   max  count   \n",
       "minority                                                                      \n",
       "0            370.0  13.694595  2.942304  8.0  12.0  15.0  16.0  21.0  370.0   \n",
       "1            104.0  12.769231  2.555142  8.0  12.0  12.0  15.0  19.0  104.0   \n",
       "\n",
       "                    ...           gender                                     \\\n",
       "              mean  ...  75%  max  count      mean       std  min  25%  50%   \n",
       "minority            ...                                                       \n",
       "0         0.470270  ...  1.0  2.0  370.0  0.524324  0.500084  0.0  0.0  1.0   \n",
       "1         0.201923  ...  0.0  2.0  104.0  0.615385  0.488860  0.0  0.0  1.0   \n",
       "\n",
       "                    \n",
       "          75%  max  \n",
       "minority            \n",
       "0         1.0  1.0  \n",
       "1         1.0  1.0  \n",
       "\n",
       "[2 rows x 24 columns]"
      ]
     },
     "execution_count": 4,
     "metadata": {},
     "output_type": "execute_result"
    }
   ],
   "source": [
    "df.groupby(\"minority\").describe()"
   ]
  },
  {
   "cell_type": "markdown",
   "source": [
    "<div>\n",
    "<p>\n",
    "در این خانه داده های تست و ترین با نسبت ۳۰ به ۷۰ جدا شده اند.\n",
    "</p>\n",
    "</div>"
   ],
   "metadata": {
    "collapsed": false
   }
  },
  {
   "cell_type": "code",
   "execution_count": 189,
   "id": "c2a14b19",
   "metadata": {},
   "outputs": [],
   "source": [
    "from sklearn.model_selection import train_test_split\n",
    "\n",
    "X = df.drop(\"minority\", axis=1).values\n",
    "y = df[\"minority\"].values\n",
    "\n",
    "X_train, X_test, y_train, y_test = train_test_split(X, y, test_size=0.3)"
   ]
  },
  {
   "cell_type": "markdown",
   "source": [
    "<div>\n",
    "<p>\n",
    "پیاده سازی تابع همانی\n",
    "</p>\n",
    "</div>"
   ],
   "metadata": {
    "collapsed": false
   }
  },
  {
   "cell_type": "code",
   "execution_count": 224,
   "id": "f98690c9",
   "metadata": {},
   "outputs": [],
   "source": [
    "class IdentityFunction:\n",
    "\n",
    "    def output(self, x):\n",
    "        return x\n",
    "\n",
    "    def gradient(self, x):\n",
    "        return np.ones(len(x))"
   ]
  },
  {
   "cell_type": "markdown",
   "source": [
    "<div>\n",
    "<p>\n",
    "پیاده سازی تابع سیگموید\n",
    "</p>\n",
    "</div>"
   ],
   "metadata": {
    "collapsed": false
   }
  },
  {
   "cell_type": "code",
   "execution_count": 225,
   "id": "dc066817",
   "metadata": {},
   "outputs": [],
   "source": [
    "class SigmoidFunction:\n",
    "\n",
    "    def output(self, x):\n",
    "        return 1 / (1 + np.exp(-x))\n",
    "\n",
    "    def gradient(self, x):\n",
    "        s = self.output(x)\n",
    "        return s * (1 - s)\n"
   ]
  },
  {
   "cell_type": "markdown",
   "source": [
    "<div>\n",
    "<p>\n",
    "در این خانه موجودیت نرون به همراه متود های مربوطه تعریف شده است.\n",
    "</p>\n",
    "</div>"
   ],
   "metadata": {
    "collapsed": false
   }
  },
  {
   "cell_type": "code",
   "execution_count": 466,
   "id": "16f238e4",
   "metadata": {},
   "outputs": [],
   "source": [
    "class Neuron:\n",
    "    def __init__(self, input_size):\n",
    "        self.input_size = input_size\n",
    "        self.w = np.random.random(input_size)\n",
    "        self.gradient_tape = []\n",
    "\n",
    "    def zero_gradient(self):\n",
    "        self.gradient_tape = []\n",
    "        return True\n",
    "\n",
    "    def add_gradient(self, value):\n",
    "        self.gradient_tape.append(value)\n",
    "        \n",
    "    def generate_local_gradient(self, coefficient):\n",
    "        self.gradient_tape[-1] = np.dot(coefficient, self.gradient_tape[-1])\n",
    "\n",
    "    def call(self, inputs):\n",
    "        induced_local_field = np.dot(self.w, inputs)\n",
    "        return induced_local_field\n",
    "\n",
    "    def update(self, learning_rate, momentum):\n",
    "        gradient_input = np.ones(self.input_size)\n",
    "        for g in self.gradient_tape:\n",
    "            gradient_input = np.dot(gradient_input, g)\n",
    "        \n",
    "        print(gradient_input)\n",
    "#         print(self.gradient_tape)\n",
    "#         print(gradient_input)\n",
    "#         self.w = self.w + np.dot(learning_rate, gradient_input)\n",
    "#         print(\"#############\")\n",
    "        print(self.w + np.dot(learning_rate, gradient_input))\n",
    "#         print(self.w)\n",
    "#         self.w = self.w + np.dot(learning_rate, gradient_input)\n",
    "#         print(self.w)\n",
    "                                 \n",
    "    @property\n",
    "    def weights(self):\n",
    "        return self.w\n",
    "\n",
    "    @property\n",
    "    def gradient(self):\n",
    "        return self.gradient_tape"
   ]
  },
  {
   "cell_type": "markdown",
   "source": [
    "<div>\n",
    "<p>\n",
    "در این خانه لایه ای از نرون ها به همراه متد های مربوط تعریف شده است.\n",
    "</p>\n",
    "</div>"
   ],
   "metadata": {
    "collapsed": false
   }
  },
  {
   "cell_type": "code",
   "execution_count": 467,
   "id": "ef4f2ad7",
   "metadata": {},
   "outputs": [],
   "source": [
    "class NeuralLayer:\n",
    "    def __init__(self, inputsize_neuroncount, activation_function):\n",
    "        self.inputsize_neuroncount = inputsize_neuroncount\n",
    "        self.neurons = [Neuron(inputsize_neuroncount[0]) for _ in range(inputsize_neuroncount[1])]\n",
    "        self.a_f = activation_function()\n",
    "\n",
    "    def calculate_outputs(self, x_input):\n",
    "        # calculate gradient for backward pass\n",
    "        for neuron in self.neurons:\n",
    "            neuron.zero_gradient()\n",
    "            neuron.add_gradient(x_input)\n",
    "            neuron.add_gradient(self.a_f.gradient(x_input))\n",
    "\n",
    "        return np.array([self.a_f.output(neuron.call(x_input)) for neuron in self.neurons])\n",
    "    \n",
    "    def multiply_local_gradient(self, value):\n",
    "        for neuron in self.neurons:\n",
    "            neuron.generate_local_gradient(value)\n",
    "\n",
    "    def update_weights(self, learning_rate, momentum):\n",
    "        for neuron in self.neurons:\n",
    "            neuron.update(learning_rate, momentum)\n",
    "            \n",
    "    @property\n",
    "    def weights(self):\n",
    "        return [neuron.weights for neuron in self.neurons]\n",
    "    \n",
    "    @property\n",
    "    def neuron_list(self):\n",
    "        return list(self.neurons)\n"
   ]
  },
  {
   "cell_type": "markdown",
   "source": [
    "<div>\n",
    "<p>\n",
    "شبکه عصبی از نوع fully connected با متد های مربوطه تعریف شده اند\n",
    "</p>\n",
    "</div>"
   ],
   "metadata": {
    "collapsed": false
   }
  },
  {
   "cell_type": "code",
   "execution_count": null,
   "outputs": [],
   "source": [],
   "metadata": {
    "collapsed": false
   }
  },
  {
   "cell_type": "code",
   "execution_count": 468,
   "id": "969e691a",
   "metadata": {},
   "outputs": [],
   "source": [
    "class NNModel:\n",
    "    def __init__(self, *layers, learning_rate, momentum):\n",
    "        self.layers = layers\n",
    "        self.learning_rate = learning_rate\n",
    "        self.momentum = momentum\n",
    "\n",
    "    def forward(self, x_input):\n",
    "        layer_input = x_input\n",
    "        for layer in self.layers:\n",
    "            layer_output = layer.calculate_outputs(layer_input)\n",
    "            layer_input = layer_output\n",
    "\n",
    "        # output of the neural network is the output of the last layer\n",
    "        neural_net_output = layer_input\n",
    "        return neural_net_output\n",
    "    \n",
    "    def backward(self, loss):\n",
    "        \n",
    "        for i, layer in enumerate(self.layers[::-1]):\n",
    "            if layer == self.layers[-1]:\n",
    "                layer.multiply_local_gradient(np.full((layer.inputsize_neuroncount[0]), loss[0]))\n",
    "            else:\n",
    "                for j, neuron in enumerate(layer.neuron_list):\n",
    "                    \n",
    "                    sum_of_w_in_gradient = np.ones(neuron.input_size)\n",
    "                    for k, nk in enumerate(self.layers[i-1].neuron_list):\n",
    "                        sum_of_w_in_gradient += np.dot(nk.weights[j], nk.gradient_tape[-1])\n",
    "                    neuron.generate_local_gradient(sum_of_w_in_gradient)\n",
    "                    \n",
    "    def update_weights(self):\n",
    "        for layer in self.layers:\n",
    "            layer.update_weights(self.learning_rate, self.momentum)\n",
    "                \n",
    "    def calculate_loss(self, y_predicted, y_true):\n",
    "        return y_true - y_predicted\n",
    "        \n",
    "\n",
    "    def fit(self, x_input, y_output):\n",
    "        for i in range(len(x_input)):\n",
    "            output = self.forward(x_input[i])\n",
    "            loss = self.calculate_loss(output, y_output[i])\n",
    "            self.backward(loss)\n",
    "            self.update_weights()\n",
    "            \n",
    "    @property\n",
    "    def weights(self):\n",
    "        return [neural_layer.weights for neural_layer in self.layers]"
   ]
  },
  {
   "cell_type": "markdown",
   "source": [
    "<div>\n",
    "<p>\n",
    "مدلی از شبکه عصبی ترین می شود.\n",
    "</p>\n",
    "</div>"
   ],
   "metadata": {
    "collapsed": false
   }
  },
  {
   "cell_type": "code",
   "execution_count": 469,
   "id": "883c86e6",
   "metadata": {},
   "outputs": [],
   "source": [
    "n = NNModel(\n",
    "    NeuralLayer((3, 3), IdentityFunction),\n",
    "    NeuralLayer((3, 3), IdentityFunction),\n",
    "    NeuralLayer((3, 1), IdentityFunction),\n",
    "    learning_rate=0.1,\n",
    "    momentum=0\n",
    ")\n",
    "\n"
   ]
  },
  {
   "cell_type": "code",
   "execution_count": null,
   "id": "14e006f2",
   "metadata": {},
   "outputs": [],
   "source": []
  },
  {
   "cell_type": "code",
   "execution_count": null,
   "id": "a68f183d",
   "metadata": {},
   "outputs": [],
   "source": []
  },
  {
   "cell_type": "code",
   "execution_count": null,
   "id": "ae7d43b2",
   "metadata": {},
   "outputs": [],
   "source": []
  },
  {
   "cell_type": "code",
   "execution_count": null,
   "id": "ad303611",
   "metadata": {},
   "outputs": [],
   "source": []
  }
 ],
 "metadata": {
  "kernelspec": {
   "display_name": "Python 3 (ipykernel)",
   "language": "python",
   "name": "python3"
  },
  "language_info": {
   "codemirror_mode": {
    "name": "ipython",
    "version": 3
   },
   "file_extension": ".py",
   "mimetype": "text/x-python",
   "name": "python",
   "nbconvert_exporter": "python",
   "pygments_lexer": "ipython3",
   "version": "3.9.12"
  }
 },
 "nbformat": 4,
 "nbformat_minor": 5
}
